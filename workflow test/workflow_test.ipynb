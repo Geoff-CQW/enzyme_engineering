{
 "cells": [
  {
   "cell_type": "markdown",
   "metadata": {},
   "source": [
    "### starting inputs ###\n",
    "\n",
    "1. read json of arguments and check\n",
    "    * rfaa input path\n",
    "    * mpnn input path\n",
    "    * rfaa script path\n",
    "    * mpnn script path\n",
    "2. RFdiffusion run\n",
    "    * create folder for each structure to store outputs, if 1 structure has more than 1 diffusion, create with \"_2\" to make life easier for mpnn code, use os.path.exists\n",
    "    * prefix check\n",
    "    * combine commands\n",
    "3. MPNN run \n",
    "    * figure out how to link each rfdiff aa to its respective ligand mpnn: write text file?\n",
    "4. output path?\n"
   ]
  },
  {
   "cell_type": "code",
   "execution_count": 1,
   "metadata": {},
   "outputs": [],
   "source": [
    "import json, os, glob\n",
    "\n"
   ]
  },
  {
   "cell_type": "code",
   "execution_count": 126,
   "metadata": {},
   "outputs": [],
   "source": [
    "def check_inputs(user_inputs):\n",
    "    inputs = user_inputs['filepaths'].keys()\n",
    "\n",
    "    assert (('rfdiffuseAA_directory' in inputs) & (os.path.exists(user_inputs['filepaths']['rfdiffuseAA_directory']))), \\\n",
    "        \"Valid directory to RFdiffusion AA must be provided in inputs json!\"\n",
    "\n",
    "    assert ((\"ligand_mpnn_directory\" in inputs) & ((os.path.exists(user_inputs['filepaths']['ligand_mpnn_directory'])))), \\\n",
    "        \"Valid directory of Ligand MPNN must be provided in inputs json!\"\n",
    "\n",
    "    assert ((\"template_pdb_directory\" in inputs) & (os.path.exists(user_inputs['filepaths']['template_pdb_directory']))), \\\n",
    "        \"Valid directory of template structure for diffusion must be provided!\"\n",
    "\n",
    "    templates = glob.glob(user_inputs['filepaths']['template_pdb_directory'] + \"*.pdb\")\n",
    "\n",
    "    no_args = [i for i in templates if os.path.basename(i) not in user_inputs.keys()]\n",
    "\n",
    "    print(f'{len(templates)} pdb files found')\n",
    "\n",
    "    if no_args:\n",
    "        print(\n",
    "        f'no RFdiffusion-AA arguments found for:\\n\\n'\n",
    "        f'{\", \".join(no_args)}\\n\\n'\n",
    "        f'Will revert to default RFDiffusion AA settings for these structures'\n",
    "         )\n",
    "\n",
    "    return templates"
   ]
  },
  {
   "cell_type": "markdown",
   "metadata": {},
   "source": [
    "### reading input file and checks ###\n"
   ]
  },
  {
   "cell_type": "code",
   "execution_count": 127,
   "metadata": {},
   "outputs": [
    {
     "name": "stdout",
     "output_type": "stream",
     "text": [
      "4 pdb files found\n",
      "no RFdiffusion-AA arguments found for:\n",
      "\n",
      "inputs\\rfaa_inputs\\struc3 - Copy.pdb\n",
      "\n",
      "Will revert to default RFDiffusion AA settings for these structures\n"
     ]
    }
   ],
   "source": [
    "# need to add cli input for input file\n",
    "\n",
    "args_path = 'test.json'\n",
    "\n",
    "# read arguments for scripts\n",
    "with open(args_path, 'r') as f:\n",
    "    user_inputs = json.load(f)\n",
    "\n",
    "templates = check_inputs(user_inputs)"
   ]
  },
  {
   "cell_type": "code",
   "execution_count": 95,
   "metadata": {},
   "outputs": [
    {
     "data": {
      "text/plain": [
       "dict_keys(['filepaths', 'struc3.pdb', 'struc1.pdb', 'struc2.pdb'])"
      ]
     },
     "execution_count": 95,
     "metadata": {},
     "output_type": "execute_result"
    }
   ],
   "source": [
    "user_inputs.keys()"
   ]
  },
  {
   "cell_type": "code",
   "execution_count": 97,
   "metadata": {},
   "outputs": [
    {
     "data": {
      "text/plain": [
       "['struc3 - Copy.pdb']"
      ]
     },
     "execution_count": 97,
     "metadata": {},
     "output_type": "execute_result"
    }
   ],
   "source": [
    "[os.path.basename(i) for i in templates if os.path.basename(i) not in user_inputs.keys()]"
   ]
  },
  {
   "cell_type": "code",
   "execution_count": 19,
   "metadata": {},
   "outputs": [
    {
     "data": {
      "text/plain": [
       "False"
      ]
     },
     "execution_count": 19,
     "metadata": {},
     "output_type": "execute_result"
    }
   ],
   "source": [
    "'*.pdb' in user_inputs.keys()"
   ]
  },
  {
   "cell_type": "code",
   "execution_count": 15,
   "metadata": {},
   "outputs": [
    {
     "name": "stdout",
     "output_type": "stream",
     "text": [
      "rfdiff_all_atom\\\n",
      "16\n",
      "ligand_mpnn\\\n",
      "12\n",
      "inputs\\rfaa_inputs\\\n",
      "19\n",
      "{'rfaa': {'fixed': '789', 'temp': 'very hot', 'model': 'something', 'diffuser': 200}, 'ligand_mpnn': {'temp': 0.1}}\n",
      "2\n",
      "{'rfaa': {'fixed': '123', 'temp': 'not too hot', 'model': 'something', 'diffuser': 150}, 'ligand_mpnn': {'temp': 0.1}}\n",
      "2\n",
      "{'rfaa': {'fixed': '456', 'temp': 'hot', 'model': 'something', 'diffuser': 100}, 'ligand_mpnn': {'temp': 0.1}}\n",
      "2\n"
     ]
    }
   ],
   "source": [
    "for i in user_inputs.values():\n",
    "    print(i)\n",
    "    print(len(i))"
   ]
  },
  {
   "cell_type": "code",
   "execution_count": 8,
   "metadata": {},
   "outputs": [
    {
     "data": {
      "text/plain": [
       "True"
      ]
     },
     "execution_count": 8,
     "metadata": {},
     "output_type": "execute_result"
    }
   ],
   "source": [
    "\n",
    "\n",
    "\n",
    "# read pdb files in template folder\n",
    "rfaa_templates = glob.glob('inputs\\\\rfaa_inputs\\\\*.pdb')\n",
    "\n",
    "\n",
    "\n",
    "# can use this to get the path to the pdb folder\n",
    "# os.path.commonpath(rfaa_templates)"
   ]
  },
  {
   "cell_type": "markdown",
   "metadata": {},
   "source": [
    "## unused ##"
   ]
  },
  {
   "cell_type": "code",
   "execution_count": 51,
   "metadata": {},
   "outputs": [
    {
     "data": {
      "text/plain": [
       "3"
      ]
     },
     "execution_count": 51,
     "metadata": {},
     "output_type": "execute_result"
    }
   ],
   "source": [
    "# if one structure is being used more than once with different arguments, check for prefixes to make sure outputs don't overwrite\n",
    "# if len(rfaa_templates) < len(model_inputs): \n",
    "#     no_prefix = []\n",
    "#     for i in model_inputs:\n",
    "#         try:\n",
    "#             model_inputs[i]['rfaa']['prefix']\n",
    "#         except:\n",
    "#             no_prefix.append(i)\n",
    "\n",
    "#     if len(no_prefix) > 0:\n",
    "#         print(\"Warning: There are more diffusion runs than there are template structures, if you are using a template structure more than once, you need to specify a different file prefix for each run or the output files will overwrite!\")\n",
    "#         print()\n",
    "#         print(f'There are no filename prefix given for {no_prefix}')\n"
   ]
  }
 ],
 "metadata": {
  "kernelspec": {
   "display_name": "python",
   "language": "python",
   "name": "python3"
  },
  "language_info": {
   "codemirror_mode": {
    "name": "ipython",
    "version": 3
   },
   "file_extension": ".py",
   "mimetype": "text/x-python",
   "name": "python",
   "nbconvert_exporter": "python",
   "pygments_lexer": "ipython3",
   "version": "3.11.0"
  }
 },
 "nbformat": 4,
 "nbformat_minor": 2
}
