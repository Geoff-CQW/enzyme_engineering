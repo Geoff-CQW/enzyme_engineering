{
 "cells": [
  {
   "cell_type": "markdown",
   "metadata": {},
   "source": [
    "### starting inputs ###\n",
    "\n",
    "1. json of arguments\n",
    "2. cli path of rfaa and ligand mpnn inputs\n",
    "3. path of rfaa and ligand mpnn\n",
    "4. output path?\n"
   ]
  },
  {
   "cell_type": "code",
   "execution_count": 41,
   "metadata": {},
   "outputs": [],
   "source": [
    "import json, os, glob\n",
    "\n"
   ]
  },
  {
   "cell_type": "code",
   "execution_count": 44,
   "metadata": {},
   "outputs": [],
   "source": [
    "# need to add cli input for input file\n",
    "\n",
    "args_path = 'test.json'\n",
    "\n",
    "# read arguments for scripts\n",
    "with open(args_path, 'r') as f:\n",
    "    model_inputs = json.load(f)\n",
    "\n",
    "# read pdb files in template folder\n",
    "rfaa_templates = glob.glob('inputs\\\\rfaa_inputs\\\\*.pdb')\n",
    "\n",
    "# if one structure is being used more than once with different arguments, check for prefixes to make sure outputs don't overwrite\n",
    "if len(rfaa_templates) < len(model_inputs): \n",
    "    no_prefix = []\n",
    "    for i in model_inputs:\n",
    "        try:\n",
    "            model_inputs[i]['rfaa']['prefix']\n",
    "        except:\n",
    "            no_prefix.append(i)\n",
    "\n",
    "    if len(no_prefix) > 0:\n",
    "        print(\"Warning: There are more diffusion runs than there are template structures, if you are using a template structure more than once, you need to specify a different file prefix for each run or the output files will overwrite!\")\n",
    "        print()\n",
    "        print(f'There are no filename prefix given for {no_prefix}')\n",
    "\n",
    "\n",
    "# can use this to get the path to the pdb folder\n",
    "os.path.commonpath(rfaa_templates)"
   ]
  },
  {
   "cell_type": "code",
   "execution_count": 60,
   "metadata": {},
   "outputs": [
    {
     "name": "stdout",
     "output_type": "stream",
     "text": [
      "Warning: There are more diffusion runs than there are template structures, if you are using a template structure more than once, you need to specify a different file prefix for each run or the output files will overwrite!\n",
      "\n",
      "There are no filename prefix given for ['struc3.pdb', 'struc1.pdb', 'struc2.pdb']\n"
     ]
    }
   ],
   "source": [
    "# create folders for structures\n"
   ]
  },
  {
   "cell_type": "code",
   "execution_count": 51,
   "metadata": {},
   "outputs": [
    {
     "data": {
      "text/plain": [
       "3"
      ]
     },
     "execution_count": 51,
     "metadata": {},
     "output_type": "execute_result"
    }
   ],
   "source": [
    "len(model_inputs)"
   ]
  }
 ],
 "metadata": {
  "kernelspec": {
   "display_name": "python",
   "language": "python",
   "name": "python3"
  },
  "language_info": {
   "codemirror_mode": {
    "name": "ipython",
    "version": 3
   },
   "file_extension": ".py",
   "mimetype": "text/x-python",
   "name": "python",
   "nbconvert_exporter": "python",
   "pygments_lexer": "ipython3",
   "version": "3.11.8"
  }
 },
 "nbformat": 4,
 "nbformat_minor": 2
}
