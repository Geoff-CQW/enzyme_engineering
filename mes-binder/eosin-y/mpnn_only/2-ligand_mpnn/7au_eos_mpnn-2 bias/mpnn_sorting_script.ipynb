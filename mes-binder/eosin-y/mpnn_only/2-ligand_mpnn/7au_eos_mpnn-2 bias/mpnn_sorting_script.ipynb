{
 "cells": [
  {
   "cell_type": "code",
   "execution_count": 165,
   "metadata": {},
   "outputs": [],
   "source": [
    "file_path = 'dock_2.1/mpnn_2_lig3_2.1_redesign.fa'"
   ]
  },
  {
   "cell_type": "code",
   "execution_count": 166,
   "metadata": {},
   "outputs": [],
   "source": [
    "def read_mpnn_fa(header, sequence):\n",
    "\n",
    "    if not header:\n",
    "        print('error, empty header')\n",
    "        return\n",
    "    \n",
    "    if not sequence:\n",
    "        print('error, empty sequence')\n",
    "        return\n",
    "    \n",
    "    info_dict = {}\n",
    "\n",
    "    # check for template sequence that's always at the top of ligand mpnn fasta\n",
    "    header_list = header.rstrip().split(', ')\n",
    "    if 'model_path' in header_list[-1].split('='):\n",
    "        print('input seq')\n",
    "        return\n",
    "    \n",
    "    import numpy as np\n",
    "    info_dict['seq_name'] = (header_list[0][1:])\n",
    "    info_dict['id'] = int(header_list[1].split('=')[1])\n",
    "    info_dict['temp'] = (header_list[2].split('=')[1])\n",
    "    info_dict['overall_confidence'] = float(header_list[4].split('=')[1])\n",
    "    info_dict['ligand_confidence'] = float(header_list[5].split('=')[1])\n",
    "    info_dict['seq_rec'] = float(header_list[6].split('=')[1])\n",
    "    info_dict['sequence'] = sequence.rstrip()\n",
    "\n",
    "    return info_dict"
   ]
  },
  {
   "cell_type": "code",
   "execution_count": 167,
   "metadata": {},
   "outputs": [
    {
     "name": "stdout",
     "output_type": "stream",
     "text": [
      "error, empty sequence\n"
     ]
    }
   ],
   "source": [
    "results = []\n",
    "\n",
    "with open(file_path, 'r') as f:\n",
    "    for line in f:\n",
    "        header = line\n",
    "        seq = next(f, None)\n",
    "        if 'model_path' in header.split(', ')[-1].split('='):\n",
    "            pass\n",
    "        else:\n",
    "            results.append(read_mpnn_fa(header, seq))\n",
    "        "
   ]
  },
  {
   "cell_type": "code",
   "execution_count": null,
   "metadata": {},
   "outputs": [],
   "source": [
    "import pandas as pd\n",
    "\n",
    "results = pd.DataFrame(results).sort_values('overall_confidence', ascending=False)"
   ]
  },
  {
   "cell_type": "code",
   "execution_count": 164,
   "metadata": {},
   "outputs": [],
   "source": [
    "file1 = open('sorted.fa', 'a+')\n",
    "cols = results.columns\n",
    "for i in range(len(results)):\n",
    "    out_header = \"\"\n",
    "    out_seq = ''\n",
    "    out_header += \">\" + results.iloc[i, 0]\n",
    "    out_seq = results.iloc[i, -1] + '\\n'\n",
    "    for j in range(len(cols))[1:-2]:\n",
    "        out_header += ', ' + cols[j] + '=' + str(results.iloc[i, j])\n",
    "\n",
    "    out_header += '\\n'\n",
    "\n",
    "    file1.writelines([out_header, out_seq])\n",
    "\n",
    "file1.close()"
   ]
  },
  {
   "cell_type": "code",
   "execution_count": 139,
   "metadata": {},
   "outputs": [
    {
     "data": {
      "text/plain": [
       "[['>mpnn_2_lig3_2.1_redesign, id=1, temp=0.1, overall_confidence=0.523, ligand_confidence=0.523',\n",
       "  'LPPALAAVLARLAALARPRPLSVEELRALSRALAAKIPVPDFVSPIDLGGVPALLAKPNDNPNVILFLHGAGEVGSLETHAALAAALAEAAGCQVVLIDYRKSPHDPVDDAVRAYKALLDQGVDPARMAIAGISMGGGLTISTLVRLKAEGIPLPAGAICISPVVNYTGPLAAAVAAFRAGRPLDHPLNPLVADLSGLPPTLIIVGSADPLLPDAKALAERLRAAGVEVTLEVIPGAIHAAELWYRELPLGAAMIELAGAFVKSLFK\\n'],\n",
       " ['>mpnn_2_lig3_2.1_redesign, id=2, temp=0.1, overall_confidence=0.524, ligand_confidence=0.524',\n",
       "  'LPPALAALLARLAALARPRPLTVEELRALSRALAAEYPVPDFVRPVDLGGVPALLAAPNDNPGVILFLHGGALVGDLATHAALAAALAEAAGCQVVLIDYRGSPHDAVDDAVTAYQALLAQGVAPEQMVIAGISAGGGLTISTLVRLKSLGIPLPAGAVCVSPVVDYTGILKAAWDAYRAGLPLDHPLNPLVADLSGLPPTLIVVGSADPLLADARALAERLRAAGVEVELVVVPGAIHAAELYYRELPVGAEILALVGAFVRSLLK\\n'],\n",
       " ['>mpnn_2_lig3_2.1_redesign, id=3, temp=0.1, overall_confidence=0.529, ligand_confidence=0.529',\n",
       "  'MPPALARLLARLAALRRPRPLTVEELRAISEALAARIPVPDFVTPTDLGGVPALEAKPNDNPNVVLFLHGAGLVGSLATHAALAAALAEAAGCTVVLIDYRKAPHDPVDDAVRAYKALLAQGVAPERMAIAGVSYGGGLTVSTLVRLKREGVPLPAGAVCVSPLVDWTGRLRAFWDASRAGLPLDHPLNPLVADLSGLPPTLIVVGSADPLLDDALALAERLRAAGVEVELRVVPGAIHAAQLYYRELPLGAAILAEIGAFLRSRFR\\n'],\n",
       " ['>mpnn_2_lig3_2.1_redesign, id=4, temp=0.1, overall_confidence=0.5483, ligand_confidence=0.5483',\n",
       "  'LPPALARVLAELAALARPRPLSVEELRALSRALAARYPVPDFVSATDLGGVPALLAKPNDNPNVVLFLHGAGEVGSLETHAALAAALAEAAGCQVVLIDYRKSPHDAVDDAVRAYKALLAQGVAPERMAIAGVSYGGGLTISTLVRLKAEGVPLPACAVAVSPVVDWTGPLAAFVAASRAGLPLDHPLNPLVADLSGLPPTLIVVGSADPLLADARALAERLRAAGVEVELRVLPGAIHAVELHYRELPLGAEALALIGAFIRSHFR\\n'],\n",
       " ['>mpnn_2_lig3_2.1_redesign, id=5, temp=0.1, overall_confidence=0.5273, ligand_confidence=0.5273',\n",
       "  'LPPALAALLAELAALARDRPLTLEELRALSRALAARVPVPDFVSPVDLGGVPALLAKPNDNPNVVLFLHGAGLVGSLETHAALAAALAKAAGCQVVLIDYRKSPHDPVDDCVRAYQALLDQGVKPERMAIAGTSVGGGLTISTLVRLKALGIPLPAGAVCVSPVVDYTGPLKAFWDAFRAGRPLDHPLNPLVADLSGLPPTLIVVGSADPLLADARALAARLRAAGVEVELVEVPGAIHAAELYYERLPLGAAMLERIGAFIQSLFK']]"
      ]
     },
     "execution_count": 139,
     "metadata": {},
     "output_type": "execute_result"
    }
   ],
   "source": [
    "test_final"
   ]
  }
 ],
 "metadata": {
  "kernelspec": {
   "display_name": "python",
   "language": "python",
   "name": "python3"
  },
  "language_info": {
   "codemirror_mode": {
    "name": "ipython",
    "version": 3
   },
   "file_extension": ".py",
   "mimetype": "text/x-python",
   "name": "python",
   "nbconvert_exporter": "python",
   "pygments_lexer": "ipython3",
   "version": "3.11.0"
  }
 },
 "nbformat": 4,
 "nbformat_minor": 2
}
