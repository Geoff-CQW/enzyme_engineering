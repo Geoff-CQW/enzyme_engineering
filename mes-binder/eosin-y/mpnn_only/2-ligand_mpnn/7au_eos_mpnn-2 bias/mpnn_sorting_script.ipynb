{
 "cells": [
  {
   "cell_type": "code",
   "execution_count": 10,
   "metadata": {},
   "outputs": [],
   "source": [
    "# file_path = 'dock_2.1/mpnn_2_lig3_2.1_redesign.fa'\n",
    "file_path = 'dock_2.1/*.fa'"
   ]
  },
  {
   "cell_type": "code",
   "execution_count": 2,
   "metadata": {},
   "outputs": [],
   "source": [
    "import glob, os"
   ]
  },
  {
   "cell_type": "code",
   "execution_count": 11,
   "metadata": {},
   "outputs": [
    {
     "data": {
      "text/plain": [
       "['dock_2.1\\\\mpnn_2_lig3_2.1_redesign.fa',\n",
       " 'dock_2.1\\\\mpnn_2_lig3_2.1_redesign_side.fa',\n",
       " 'dock_2.1\\\\mpnn_2_lig3_2.1_redesign_temp.fa']"
      ]
     },
     "execution_count": 11,
     "metadata": {},
     "output_type": "execute_result"
    }
   ],
   "source": [
    "test =  glob.glob(file_path)\n",
    "test"
   ]
  },
  {
   "cell_type": "code",
   "execution_count": 14,
   "metadata": {},
   "outputs": [
    {
     "name": "stdout",
     "output_type": "stream",
     "text": [
      "mpnn_2_lig3_2.1_redesign_test\n",
      "mpnn_2_lig3_2.1_redesign_side_test\n",
      "mpnn_2_lig3_2.1_redesign_temp_test\n"
     ]
    }
   ],
   "source": [
    "for i in test:\n",
    "    print(os.path.basename(i).rsplit('.', 1)[0] + '_test')"
   ]
  },
  {
   "cell_type": "markdown",
   "metadata": {},
   "source": [
    "## to do ##\n",
    "\n",
    "1. incorporate cli arguments for folder/file, sort by\n",
    "2. name output file \"input_name_sorted.fa\"\n"
   ]
  },
  {
   "cell_type": "code",
   "execution_count": 35,
   "metadata": {},
   "outputs": [
    {
     "name": "stdout",
     "output_type": "stream",
     "text": [
      "input seq\n"
     ]
    }
   ],
   "source": [
    "pop = read_and_sort_fasta(file_path, 'test.fa')"
   ]
  },
  {
   "cell_type": "code",
   "execution_count": 36,
   "metadata": {},
   "outputs": [],
   "source": [
    "write_fasta(pop, 'test.fa')"
   ]
  },
  {
   "cell_type": "code",
   "execution_count": 16,
   "metadata": {},
   "outputs": [],
   "source": [
    "def read_mpnn_fa(header, sequence, output_filename):\n",
    "    ''' reads ligand/protein mpnn fasta file and returns dictionary of with scores as key : value pair and sequence '''\n",
    "\n",
    "    # error checking\n",
    "    if not header:\n",
    "        print('error, empty header')\n",
    "        return\n",
    "    \n",
    "    if not sequence:\n",
    "        print('error, empty sequence')\n",
    "        return\n",
    "    \n",
    "    info_dict = {}\n",
    "\n",
    "    header_list = header.rstrip().split(', ')\n",
    "\n",
    "    # check for template sequence that's always at the top of ligand mpnn fasta and write it to the file\n",
    "    if 'model_path' in header_list[-1].split('='):\n",
    "        print('input seq')\n",
    "        file = open(output_filename, 'w+')\n",
    "        file.writelines([header, sequence])\n",
    "        file.close()\n",
    "        return\n",
    "    \n",
    "    info_dict['seq_name'] = (header_list[0][1:])\n",
    "    info_dict['id'] = int(header_list[1].split('=')[1])\n",
    "    info_dict['temp'] = (header_list[2].split('=')[1])\n",
    "    info_dict['overall_confidence'] = float(header_list[4].split('=')[1])\n",
    "    info_dict['ligand_confidence'] = float(header_list[5].split('=')[1])\n",
    "    info_dict['seq_rec'] = float(header_list[6].split('=')[1])\n",
    "    info_dict['sequence'] = sequence.rstrip()\n",
    "\n",
    "    return info_dict"
   ]
  },
  {
   "cell_type": "code",
   "execution_count": 29,
   "metadata": {},
   "outputs": [],
   "source": [
    "def read_and_sort_fasta(file_path, output_filename, sort_by='overall_confidence'):\n",
    "\n",
    "    '''reads provided ligand/protein mpnn fasta file and returns a list of dictionaries sorted by desired score '''\n",
    "\n",
    "    results = []\n",
    "\n",
    "    with open(file_path, 'r') as f:\n",
    "        for line in f:\n",
    "            header = line\n",
    "            seq = next(f, None)\n",
    "            if 'model_path' in header.split(', ')[-1].split('='):\n",
    "                read_mpnn_fa(header, seq, output_filename)\n",
    "            else:\n",
    "                results.append(read_mpnn_fa(header, seq, output_filename))\n",
    "\n",
    "    return sorted(results, key = lambda d: d[sort_by], reverse=True)\n",
    "        "
   ]
  },
  {
   "cell_type": "code",
   "execution_count": 34,
   "metadata": {},
   "outputs": [],
   "source": [
    "def write_fasta(sorted_list, output_filename):\n",
    "\n",
    "    ''' go through sorted list and write to file in fasta format '''\n",
    "    outputs = []\n",
    "\n",
    "    for seq_dict in sorted_list:\n",
    "        seq_keys = list(seq_dict.keys())\n",
    "        out_header = \"\" \n",
    "        out_seq = ''\n",
    "\n",
    "        # write seq. name\n",
    "        out_header += \">\" + seq_dict['seq_name']\n",
    "        out_seq = seq_dict['sequence'] + '\\n'\n",
    "        for key in seq_keys[1:-1]:\n",
    "            out_header += ', ' + key + '=' + str(seq_dict[key])\n",
    "\n",
    "        out_header += '\\n'\n",
    "\n",
    "        outputs.append(out_header)\n",
    "        outputs.append(out_seq)\n",
    "    \n",
    "    file1 = open(output_filename, 'a+')\n",
    "    file1.writelines(outputs)\n",
    "    file1.close()"
   ]
  },
  {
   "cell_type": "code",
   "execution_count": 25,
   "metadata": {},
   "outputs": [
    {
     "data": {
      "text/plain": [
       "'LPPALARVLAELAALARPRPLSVEELRALSRALAARYPVPDFVSATDLGGVPALLAKPNDNPNVVLFLHGAGEVGSLETHAALAAALAEAAGCQVVLIDYRKSPHDAVDDAVRAYKALLAQGVAPERMAIAGVSYGGGLTISTLVRLKAEGVPLPACAVAVSPVVDWTGPLAAFVAASRAGLPLDHPLNPLVADLSGLPPTLIVVGSADPLLADARALAERLRAAGVEVELRVLPGAIHAVELHYRELPLGAEALALIGAFIRSHFR\\n'"
      ]
     },
     "execution_count": 25,
     "metadata": {},
     "output_type": "execute_result"
    }
   ],
   "source": []
  },
  {
   "cell_type": "code",
   "execution_count": 139,
   "metadata": {},
   "outputs": [
    {
     "data": {
      "text/plain": [
       "[['>mpnn_2_lig3_2.1_redesign, id=1, temp=0.1, overall_confidence=0.523, ligand_confidence=0.523',\n",
       "  'LPPALAAVLARLAALARPRPLSVEELRALSRALAAKIPVPDFVSPIDLGGVPALLAKPNDNPNVILFLHGAGEVGSLETHAALAAALAEAAGCQVVLIDYRKSPHDPVDDAVRAYKALLDQGVDPARMAIAGISMGGGLTISTLVRLKAEGIPLPAGAICISPVVNYTGPLAAAVAAFRAGRPLDHPLNPLVADLSGLPPTLIIVGSADPLLPDAKALAERLRAAGVEVTLEVIPGAIHAAELWYRELPLGAAMIELAGAFVKSLFK\\n'],\n",
       " ['>mpnn_2_lig3_2.1_redesign, id=2, temp=0.1, overall_confidence=0.524, ligand_confidence=0.524',\n",
       "  'LPPALAALLARLAALARPRPLTVEELRALSRALAAEYPVPDFVRPVDLGGVPALLAAPNDNPGVILFLHGGALVGDLATHAALAAALAEAAGCQVVLIDYRGSPHDAVDDAVTAYQALLAQGVAPEQMVIAGISAGGGLTISTLVRLKSLGIPLPAGAVCVSPVVDYTGILKAAWDAYRAGLPLDHPLNPLVADLSGLPPTLIVVGSADPLLADARALAERLRAAGVEVELVVVPGAIHAAELYYRELPVGAEILALVGAFVRSLLK\\n'],\n",
       " ['>mpnn_2_lig3_2.1_redesign, id=3, temp=0.1, overall_confidence=0.529, ligand_confidence=0.529',\n",
       "  'MPPALARLLARLAALRRPRPLTVEELRAISEALAARIPVPDFVTPTDLGGVPALEAKPNDNPNVVLFLHGAGLVGSLATHAALAAALAEAAGCTVVLIDYRKAPHDPVDDAVRAYKALLAQGVAPERMAIAGVSYGGGLTVSTLVRLKREGVPLPAGAVCVSPLVDWTGRLRAFWDASRAGLPLDHPLNPLVADLSGLPPTLIVVGSADPLLDDALALAERLRAAGVEVELRVVPGAIHAAQLYYRELPLGAAILAEIGAFLRSRFR\\n'],\n",
       " ['>mpnn_2_lig3_2.1_redesign, id=4, temp=0.1, overall_confidence=0.5483, ligand_confidence=0.5483',\n",
       "  'LPPALARVLAELAALARPRPLSVEELRALSRALAARYPVPDFVSATDLGGVPALLAKPNDNPNVVLFLHGAGEVGSLETHAALAAALAEAAGCQVVLIDYRKSPHDAVDDAVRAYKALLAQGVAPERMAIAGVSYGGGLTISTLVRLKAEGVPLPACAVAVSPVVDWTGPLAAFVAASRAGLPLDHPLNPLVADLSGLPPTLIVVGSADPLLADARALAERLRAAGVEVELRVLPGAIHAVELHYRELPLGAEALALIGAFIRSHFR\\n'],\n",
       " ['>mpnn_2_lig3_2.1_redesign, id=5, temp=0.1, overall_confidence=0.5273, ligand_confidence=0.5273',\n",
       "  'LPPALAALLAELAALARDRPLTLEELRALSRALAARVPVPDFVSPVDLGGVPALLAKPNDNPNVVLFLHGAGLVGSLETHAALAAALAKAAGCQVVLIDYRKSPHDPVDDCVRAYQALLDQGVKPERMAIAGTSVGGGLTISTLVRLKALGIPLPAGAVCVSPVVDYTGPLKAFWDAFRAGRPLDHPLNPLVADLSGLPPTLIVVGSADPLLADARALAARLRAAGVEVELVEVPGAIHAAELYYERLPLGAAMLERIGAFIQSLFK']]"
      ]
     },
     "execution_count": 139,
     "metadata": {},
     "output_type": "execute_result"
    }
   ],
   "source": [
    "test_final"
   ]
  }
 ],
 "metadata": {
  "kernelspec": {
   "display_name": "python",
   "language": "python",
   "name": "python3"
  },
  "language_info": {
   "codemirror_mode": {
    "name": "ipython",
    "version": 3
   },
   "file_extension": ".py",
   "mimetype": "text/x-python",
   "name": "python",
   "nbconvert_exporter": "python",
   "pygments_lexer": "ipython3",
   "version": "3.11.0"
  }
 },
 "nbformat": 4,
 "nbformat_minor": 2
}
