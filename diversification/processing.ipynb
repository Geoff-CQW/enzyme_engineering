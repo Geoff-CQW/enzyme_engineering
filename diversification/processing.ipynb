{
 "cells": [
  {
   "cell_type": "code",
   "execution_count": 2,
   "metadata": {},
   "outputs": [],
   "source": [
    "import re\n",
    "import sys, os, glob"
   ]
  },
  {
   "cell_type": "code",
   "execution_count": 3,
   "metadata": {},
   "outputs": [],
   "source": [
    "tets = glob.glob('*.pdb')"
   ]
  },
  {
   "cell_type": "code",
   "execution_count": 14,
   "metadata": {},
   "outputs": [
    {
     "data": {
      "text/plain": [
       "'7auy_partdiff12_107auy_partdiff12_10_1.pdb'"
      ]
     },
     "execution_count": 14,
     "metadata": {},
     "output_type": "execute_result"
    }
   ],
   "source": [
    "tets[1]"
   ]
  },
  {
   "cell_type": "code",
   "execution_count": 16,
   "metadata": {},
   "outputs": [],
   "source": [
    "for i in tets:\n",
    "    new = re.sub(r\"7auy.*7auy_\", \"\", i)\n",
    "    os.rename(i, new)"
   ]
  },
  {
   "cell_type": "markdown",
   "metadata": {},
   "source": [
    "### for converting fixed residues into format RFAA wants ###"
   ]
  },
  {
   "cell_type": "code",
   "execution_count": 19,
   "metadata": {},
   "outputs": [],
   "source": [
    "pop = [2, 3, 4, 39, 40, 41, 42, 43, 44, 45, 48, 49, 50, 51, 52, 53, 54, 55, 56, 57, 58, 60, 61, 62, 63, 64, 65, 66, 67, 69, 70, 94, 95, 96, 97, 98, 99, 100, 101, 102, 113, 114, 115, 116, 118, 120, 121, 122, 123, 124, 125, 126, 127, 128, 129, 130, 131, 132, 133, 134, 135, 136, 137, 138, 139, 151, 152, 153, 154, 155, 156, 157, 158, 159, 160, 161, 162, 163, 164, 165, 166, 167, 168, 178, 179, 207, 208, 209, 210, 211, 212, 213, 214, 215, 216, 218, 219, 220, 221, 222, 223, 224, 225, 226, 227, 228, 229, 230, 231, 232, 242, 243, 244, 245, 246, 247, 248, 249, 250, 251, 252, 253, 254, 255, 256, 257, 258, 259, 260, 261, 262, 282, 285, 286, 287, 288, 289, 290, 291, 292, 293, 294, 295, 296]"
   ]
  },
  {
   "cell_type": "code",
   "execution_count": 23,
   "metadata": {},
   "outputs": [],
   "source": [
    "new_pop = ['A0-0']\n",
    "temp = [0]\n",
    "for curr in pop:\n",
    "    # print(curr)\n",
    "    prev = temp[-1]\n",
    "\n",
    "    if curr - prev == 1:\n",
    "        # consective number\n",
    "        pass\n",
    "    else:\n",
    "        # new number, move previous set to new_pop\n",
    "        if len(temp) > 1: # more than 1 residue in temp\n",
    "            first = temp[0]\n",
    "            last = temp[-1]\n",
    "            diff = first - int(new_pop[-1].split('-')[-1].replace('A', \"\"))\n",
    "            new_pop.append((str(diff) + \"-\" + str(diff+5)))\n",
    "            final =  \"A\" + str(first) + \"-\" + str(last)\n",
    "            temp = []\n",
    "            new_pop.append(final)\n",
    "\n",
    "        else: # only 1 residue in temp\n",
    "            new_pop.append(\"A\" + str(prev) + '-' + str(prev))\n",
    "            temp = []\n",
    "\n",
    "    # add current to temp\n",
    "    temp.append(curr)\n",
    "    # print('temp', temp)\n",
    "\n",
    "    if curr == 296: # final residue\n",
    "        if len(temp) > 1: # more than 1 residue in temp\n",
    "            first = temp[0]\n",
    "            last = temp[-1]\n",
    "            diff = first - int(new_pop[-1].split('-')[-1].replace('A', \"\"))\n",
    "            new_pop.append((str(diff) + \"-\" + str(diff+5)))\n",
    "            final =  \"A\" + str(first) + \"-\" + str(last)\n",
    "            temp = []\n",
    "            new_pop.append(final)\n",
    "        else: # only 1 residue in temp\n",
    "            new_pop.append(\"A\" + str(curr))\n"
   ]
  },
  {
   "cell_type": "code",
   "execution_count": 10,
   "metadata": {},
   "outputs": [
    {
     "name": "stdout",
     "output_type": "stream",
     "text": [
      "2-7,A2-4,35-40,A39-45,3-8,A48-58,2-7,A60-67,2-7,A69-70,24-29,A94-102,11-16,A113-116,A118,2-7,A120-139,12-17,A151-168,10-15,A178-179,28-33,A207-216,2-7,A218-232,10-15,A242-257,0-5,A257-262,A282,3-8,A285-296\n"
     ]
    }
   ],
   "source": [
    "print(\",\".join(new_pop[2:]))"
   ]
  },
  {
   "cell_type": "markdown",
   "metadata": {},
   "source": [
    "### for partial diffusion ###"
   ]
  },
  {
   "cell_type": "code",
   "execution_count": 2,
   "metadata": {},
   "outputs": [],
   "source": [
    "new_pop = ['A0-0']\n",
    "temp = [0]\n",
    "for curr in pop:\n",
    "    # print(curr)\n",
    "    prev = temp[-1]\n",
    "\n",
    "    if curr - prev == 1:\n",
    "        # consective number\n",
    "        pass\n",
    "    else:\n",
    "        # new number, move previous set to new_pop\n",
    "        if len(temp) > 1: # more than 1 residue in temp\n",
    "            first = temp[0]\n",
    "            last = temp[-1]\n",
    "            final =  \"A\" + str(first) + \"-\" + str(last)\n",
    "            temp = []\n",
    "            new_pop.append(final)\n",
    "\n",
    "        else: # only 1 residue in temp\n",
    "            new_pop.append(\"A\" + str(prev) + '-' + str(prev))\n",
    "            temp = []\n",
    "\n",
    "    # add current to temp\n",
    "    temp.append(curr)\n",
    "    # print('temp', temp)\n",
    "\n",
    "    if curr == 296: # final residue\n",
    "        if len(temp) > 1: # more than 1 residue in temp\n",
    "            first = temp[0]\n",
    "            last = temp[-1]\n",
    "            final =  \"A\" + str(first) + \"-\" + str(last)\n",
    "            temp = []\n",
    "            new_pop.append(final)\n",
    "        else: # only 1 residue in temp\n",
    "            new_pop.append(\"A\" + str(curr))"
   ]
  },
  {
   "cell_type": "code",
   "execution_count": 3,
   "metadata": {},
   "outputs": [
    {
     "data": {
      "text/plain": [
       "['A0-0',\n",
       " 'A0-0',\n",
       " 'A2-4',\n",
       " 'A39-45',\n",
       " 'A48-58',\n",
       " 'A60-67',\n",
       " 'A69-70',\n",
       " 'A94-102',\n",
       " 'A113-116',\n",
       " 'A118-118',\n",
       " 'A120-139',\n",
       " 'A151-168',\n",
       " 'A178-179',\n",
       " 'A207-216',\n",
       " 'A218-232',\n",
       " 'A242-257',\n",
       " 'A257-262',\n",
       " 'A282-282',\n",
       " 'A285-296']"
      ]
     },
     "execution_count": 3,
     "metadata": {},
     "output_type": "execute_result"
    }
   ],
   "source": [
    "new_pop"
   ]
  },
  {
   "cell_type": "code",
   "execution_count": 16,
   "metadata": {},
   "outputs": [
    {
     "data": {
      "text/plain": [
       "'A2-4,A39-45,A48-58,A60-67,A69-70,A94-102,A113-116,A118-118,A120-139,A151-168,A178-179,A207-216,A218-232,A242-257,A257-262,A282-282,A285-296'"
      ]
     },
     "execution_count": 16,
     "metadata": {},
     "output_type": "execute_result"
    }
   ],
   "source": [
    "\",\".join(new_pop[2:])"
   ]
  }
 ],
 "metadata": {
  "kernelspec": {
   "display_name": "python",
   "language": "python",
   "name": "python3"
  },
  "language_info": {
   "codemirror_mode": {
    "name": "ipython",
    "version": 3
   },
   "file_extension": ".py",
   "mimetype": "text/x-python",
   "name": "python",
   "nbconvert_exporter": "python",
   "pygments_lexer": "ipython3",
   "version": "3.11.8"
  }
 },
 "nbformat": 4,
 "nbformat_minor": 2
}
