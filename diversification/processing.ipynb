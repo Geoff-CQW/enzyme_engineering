{
 "cells": [
  {
   "cell_type": "code",
   "execution_count": 2,
   "metadata": {},
   "outputs": [],
   "source": [
    "import re\n",
    "import sys, os, glob"
   ]
  },
  {
   "cell_type": "code",
   "execution_count": 3,
   "metadata": {},
   "outputs": [],
   "source": [
    "tets = glob.glob('*.pdb')"
   ]
  },
  {
   "cell_type": "code",
   "execution_count": 14,
   "metadata": {},
   "outputs": [
    {
     "data": {
      "text/plain": [
       "'7auy_partdiff12_107auy_partdiff12_10_1.pdb'"
      ]
     },
     "execution_count": 14,
     "metadata": {},
     "output_type": "execute_result"
    }
   ],
   "source": [
    "tets[1]"
   ]
  },
  {
   "cell_type": "code",
   "execution_count": 16,
   "metadata": {},
   "outputs": [],
   "source": [
    "for i in tets:\n",
    "    new = re.sub(r\"7auy.*7auy_\", \"\", i)\n",
    "    os.rename(i, new)"
   ]
  },
  {
   "cell_type": "markdown",
   "metadata": {},
   "source": [
    "### for converting fixed residues into format RFAA wants ###"
   ]
  },
  {
   "cell_type": "code",
   "execution_count": 23,
   "metadata": {},
   "outputs": [],
   "source": [
    "def residues_rfaa(to_fix, x_lower=0, x_upper=5, last_res=None):\n",
    "    '''\n",
    "    code will always tell the model to fill in a range of x residues, where x is based off the gap in the template\n",
    "    by default, x_lower is unchanged and x_upper is 5. i.e. if there is a gap of 10 residues between two groups of \n",
    "    fixed residues, then code will be 10-15 \n",
    "\n",
    "    if no last residue is provided, will take the last residue in to_fix as last residue\n",
    "        '''\n",
    "    if not last_res:\n",
    "        last_res = to_fix[-1]\n",
    "\n",
    "    # residue tally\n",
    "    n = 0\n",
    "    new_pop = ['0']\n",
    "    temp = [0]\n",
    "    for idx in range(len(to_fix)):\n",
    "        curr = to_fix[idx]\n",
    "        prev = temp[-1]\n",
    "        if curr - prev == 1:\n",
    "            # consective number\n",
    "            pass\n",
    "        elif curr - prev == 0:\n",
    "            # same number appearing twice\n",
    "            print(f'duplicated residue {curr}, please check. It will be ignored in processing ')\n",
    "            pass\n",
    "        elif idx == 0:\n",
    "            temp[0] = curr\n",
    "        else:\n",
    "            # new number, move previous set to new_pop\n",
    "            if len(temp) > 1: # more than 1 residue in temp\n",
    "                first = max(temp[0], 1)\n",
    "                last = temp[-1]\n",
    "                diff = first - int(new_pop[-1].split('-')[-1].replace('A', \"\"))\n",
    "                lower = 0 #max(diff-x_lower, 0)\n",
    "                upper = diff + x_upper\n",
    "                new_pop.append((str(lower) + \"-\" + str(upper)))\n",
    "                final =  \"A\" + str(first) + \"-\" + str(last)\n",
    "                n += (last - first + upper) # add no. of residues\n",
    "                temp = []\n",
    "                new_pop.append(final)\n",
    "            else: # only 1 residue in temp\n",
    "                diff = prev - int(new_pop[-1].split('-')[-1].replace('A', \"\"))\n",
    "                lower = 0 #max(diff-x_lower, 0)\n",
    "                upper = diff + x_upper\n",
    "                new_pop.append((str(lower) + \"-\" + str(upper)))\n",
    "                final =  \"A\" + str(prev) + \"-\" + str(prev)\n",
    "                n += (1 + upper)\n",
    "                new_pop.append(final)\n",
    "                temp = []\n",
    "\n",
    "        # add current to temp\n",
    "        temp.append(curr)\n",
    "        # print('temp', temp)\n",
    "\n",
    "        if curr == last_res: # final residue\n",
    "            # print('last res', temp)\n",
    "            # print(new_pop)\n",
    "            if len(temp) > 1: # more than 1 residue in temp\n",
    "                first = temp[0]\n",
    "                last = temp[-1]\n",
    "                diff = first - int(new_pop[-1].split('-')[-1].replace('A', \"\"))\n",
    "                lower = 0 #max(diff-x_lower, 0)\n",
    "                upper = diff + x_upper\n",
    "                n += (last - first + upper)\n",
    "                new_pop.append((str(lower) + \"-\" + str(upper)))\n",
    "                final =  \"A\" + str(first) + \"-\" + str(last)\n",
    "                temp = []\n",
    "                new_pop.append(final)\n",
    "            else: # only 1 residue in temp\n",
    "                diff = curr - int(new_pop[-1].split('-')[-1].replace('A', \"\"))\n",
    "                lower = 0 #max(diff-x_lower, 0)\n",
    "                upper = diff + x_upper\n",
    "                n += (1 + upper)\n",
    "                new_pop.append((str(lower) + \"-\" + str(upper)))\n",
    "                final =  \"A\" + str(curr) + \"-\" + str(curr)\n",
    "                new_pop.append(final)\n",
    "                temp = []\n",
    "\n",
    "    print(f'Esimated max residues: {n}')\n",
    "    return \",\".join(new_pop[2:])"
   ]
  },
  {
   "cell_type": "code",
   "execution_count": 24,
   "metadata": {},
   "outputs": [
    {
     "name": "stdout",
     "output_type": "stream",
     "text": [
      "duplicated residue 125, please check. It will be ignored in processing \n",
      "Esimated max residues: 385\n"
     ]
    },
    {
     "data": {
      "text/plain": [
       "'A1-3,0-19,A17-22,0-7,A24-25,0-13,A33-33,0-12,A40-71,0-18,A84-84,0-13,A92-101,0-7,A103-140,0-12,A147-169,0-10,A174-189,0-12,A196-196,0-8,A199-200,0-7,A202-232,0-8,A235-235,0-10,A240-263,0-13,A271-271,0-15,A281-295'"
      ]
     },
     "execution_count": 24,
     "metadata": {},
     "output_type": "execute_result"
    }
   ],
   "source": [
    "# 3 AA added\n",
    "\n",
    "to_fix12 = [1, 2, 3, 17, 18, 19, 20, 21, 22, 24, 25, 33,40, 41, 42, 43, 44, 45, 46, 47, 48, 49, 50, 51, 52, 53, 54, 55, 56, 57, 58, 59, 60, 61, 62, 63, 64, 65, 66, 67, 68, 69, 70, 71, 84, 92, 93, 94, 95, 96, 97, 98, 99, 100, 101, 103, 104, 105, 106, 107, 108, 109, 110, 111, 112, 113, 114, 115, 116, 117, 118, 119, 120, 121, 122, 123, 124, 125, 125, 126, 127, 128, 129, 130, 131, 132, 133, 134, 135, 136, 137, 138, 139, 140, 147, 148, 149, 150, 151, 152, 153, 154, 155, 156, 157, 158, 159, 160, 161, 162, 163, 164, 165, 166, 167, 168, 169, 174, 175, 176, 177, 178, 179, 180, 181, 182, 183, 184, 185, 186, 187, 188, 189, 196, 199, 200, 202, 203, 204, 205, 206, 207, 208, 209, 210, 211, 212, 213, 214, 215, 216, 217, 218, 219, 220, 221, 222, 223, 224, 225, 226, 227, 228, 229, 230, 231, 232, 235, 240, 241, 242, 243, 244, 245, 246, 247, 248, 249, 250, 251, 252, 253, 254, 255, 256, 257, 258, 259, 260, 261, 262, 263, 271, 281, 282, 283, 284, 285, 286, 287, 288, 289, 290, 291, 292, 293, 294, 295]\n",
    "\n",
    "\n",
    "residues_rfaa(to_fix12)"
   ]
  },
  {
   "cell_type": "code",
   "execution_count": 25,
   "metadata": {},
   "outputs": [
    {
     "name": "stdout",
     "output_type": "stream",
     "text": [
      "duplicated residue 125, please check. It will be ignored in processing \n",
      "Esimated max residues: 414\n"
     ]
    },
    {
     "data": {
      "text/plain": [
       "'A18-19,0-19,A33-33,0-13,A41-42,0-7,A44-44,0-7,A46-54,0-8,A57-57,0-7,A59-70,0-19,A84-84,0-15,A94-99,0-7,A101-101,0-13,A109-115,0-7,A117-139,0-16,A150-168,0-14,A177-177,0-7,A179-181,0-8,A184-185,0-23,A203-203,0-8,A206-231,0-15,A241-241,0-8,A244-261,0-15,A271-271,0-18,A284-295'"
      ]
     },
     "execution_count": 25,
     "metadata": {},
     "output_type": "execute_result"
    }
   ],
   "source": [
    "# 3 AA added\n",
    "\n",
    "to_fix15 = [18, 19, 33, 41, 42, 44, 46, 47, 48, 49, 50, 51, 52, 53, 54, 57, 59, 60, 61, 62, 63, 64, 65, 66, 67, 68, 69, 70, 84, 94, 95, 96, 97, 98, 99, 101, 109, 110, 111, 112, 113, 114, 115, 117, 118, 119, 120, 121, 122, 123, 124, 125, 125, 126, 127, 128, 129, 130, 131, 132, 133, 134, 135, 136, 137, 138, 139, 150, 151, 152, 153, 154, 155, 156, 157, 158, 159, 160, 161, 162, 163, 164, 165, 166, 167, 168, 177, 179, 180, 181, 184, 185, 203, 206, 207, 208, 209, 210, 211, 212, 213, 214, 215, 216, 217, 218, 219, 220, 221, 222, 223, 224, 225, 226, 227, 228, 229, 230, 231, 241, 244, 245, 246, 247, 248, 249, 250, 251, 252, 253, 254, 255, 256, 257, 258, 259, 260, 261, 271, 284, 285, 286, 287, 288, 289, 290, 291, 292, 293, 294, 295]\n",
    "\n",
    "residues_rfaa(to_fix15)"
   ]
  },
  {
   "cell_type": "code",
   "execution_count": 9,
   "metadata": {},
   "outputs": [
    {
     "data": {
      "text/plain": [
       "dict_keys(['config', 'device', 'px0_xyz_stack', 'indep', 'con_ref_pdb_idx', 'con_hal_pdb_idx', 'con_ref_idx0', 'con_hal_idx0', 'inpaint_str', 'inpaint_seq', 'sampled_mask', 'mask_1d', 'atomize_indices2atomname'])"
      ]
     },
     "execution_count": 9,
     "metadata": {},
     "output_type": "execute_result"
    }
   ],
   "source": [
    "import numpy as np\n",
    "\n",
    "pop1 = np.load(\"eos_7nb5_3aa_all__1.trb\", allow_pickle=True)\n",
    "\n",
    "pop1.keys()"
   ]
  },
  {
   "cell_type": "code",
   "execution_count": 12,
   "metadata": {},
   "outputs": [
    {
     "data": {
      "text/plain": [
       "array([ 25,  86, 272], dtype=int64)"
      ]
     },
     "execution_count": 12,
     "metadata": {},
     "output_type": "execute_result"
    }
   ],
   "source": [
    "pop1['con_hal_idx0'] +1"
   ]
  }
 ],
 "metadata": {
  "kernelspec": {
   "display_name": "python",
   "language": "python",
   "name": "python3"
  },
  "language_info": {
   "codemirror_mode": {
    "name": "ipython",
    "version": 3
   },
   "file_extension": ".py",
   "mimetype": "text/x-python",
   "name": "python",
   "nbconvert_exporter": "python",
   "pygments_lexer": "ipython3",
   "version": "3.11.8"
  }
 },
 "nbformat": 4,
 "nbformat_minor": 2
}
