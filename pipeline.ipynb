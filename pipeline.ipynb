{
 "cells": [
  {
   "cell_type": "code",
   "execution_count": 3,
   "metadata": {},
   "outputs": [],
   "source": [
    "config = f\"\"\"\n",
    "defaults:\n",
    "  - aa\n",
    "\n",
    "diffuser:\n",
    "  T: 5\n",
    "\n",
    "inference:\n",
    "  num_designs: 5\n",
    "  model_runner: NRBStyleSelfCond\n",
    "  ligand: PPP\n",
    "\n",
    "model:\n",
    "  freeze_track_motif: True\n",
    "\n",
    "contigmap:\n",
    "  contigs: [\"30-110,A15-15,30-110\"]\n",
    "  inpaint_str: null\n",
    "  length: \"100-140\"\n",
    "\n",
    "potentials:\n",
    "  guiding_potentials: [\"type:ligand_ncontacts,weight:1\"] \n",
    "  guide_scale: 2\n",
    "  guide_decay: cubic\n",
    "\"\"\""
   ]
  },
  {
   "cell_type": "code",
   "execution_count": 4,
   "metadata": {},
   "outputs": [
    {
     "data": {
      "text/plain": [
       "'\\ndefaults:\\n  - aa\\n\\ndiffuser:\\n  T: 5\\n\\ninference:\\n  num_designs: 5\\n  model_runner: NRBStyleSelfCond\\n  ligand: PPP\\n\\nmodel:\\n  freeze_track_motif: True\\n\\ncontigmap:\\n  contigs: [\"30-110,A15-15,30-110\"]\\n  inpaint_str: null\\n  length: \"100-140\"\\n\\npotentials:\\n  guiding_potentials: [\"type:ligand_ncontacts,weight:1\"] \\n  guide_scale: 2\\n  guide_decay: cubic\\n'"
      ]
     },
     "execution_count": 4,
     "metadata": {},
     "output_type": "execute_result"
    }
   ],
   "source": [
    "config"
   ]
  }
 ],
 "metadata": {
  "kernelspec": {
   "display_name": "python",
   "language": "python",
   "name": "python3"
  },
  "language_info": {
   "codemirror_mode": {
    "name": "ipython",
    "version": 3
   },
   "file_extension": ".py",
   "mimetype": "text/x-python",
   "name": "python",
   "nbconvert_exporter": "python",
   "pygments_lexer": "ipython3",
   "version": "3.11.8"
  }
 },
 "nbformat": 4,
 "nbformat_minor": 2
}
